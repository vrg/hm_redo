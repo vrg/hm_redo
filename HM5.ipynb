{
 "metadata": {
  "name": "HM5"
 },
 "nbformat": 3,
 "nbformat_minor": 0,
 "worksheets": [
  {
   "cells": [
    {
     "cell_type": "heading",
     "level": 1,
     "metadata": {},
     "source": [
      "Homework 5"
     ]
    },
    {
     "cell_type": "code",
     "collapsed": false,
     "input": [
      "import numpy as np\n",
      "#import matplotlib.pyplot as plt\n",
      "import emcee\n",
      "\n",
      "# For inline plotting\n",
      "%pylab inline"
     ],
     "language": "python",
     "metadata": {},
     "outputs": [
      {
       "output_type": "stream",
       "stream": "stdout",
       "text": [
        "\n",
        "Welcome to pylab, a matplotlib-based Python environment [backend: module://IPython.zmq.pylab.backend_inline].\n",
        "For more information, type 'help(pylab)'.\n"
       ]
      }
     ],
     "prompt_number": 1
    },
    {
     "cell_type": "heading",
     "level": 3,
     "metadata": {},
     "source": [
      "Question 1"
     ]
    },
    {
     "cell_type": "markdown",
     "metadata": {},
     "source": [
      "We first note that since the radar is reflected at random angles from the asteroid, we can assume a uniform distribution for the angles $\\theta$ between $-\\pi/2$ and $\\pi/2$. Therefore, the cumulative probability distribution of the random variable $\\Theta$ is given by\n",
      "$$\n",
      "P(\\Theta < \\theta) = \\frac{\\pi/2 + \\theta}{\\pi}.\n",
      "$$\n",
      "If we assume that at t=1 the asteroid is located at $(x_0,z_0)$, we can relate the angle $\\theta$ of a signal with the position $x$ of the receiving radar detector:\n",
      "$$\n",
      "\\theta = \\arctan \\frac{x-x_0}{z_0}\n",
      "$$\n",
      "Therefore, the cumulative distribution of $x$ is\n",
      "$$\n",
      "P(X < x) = P(\\Theta < \\arctan \\frac{x-x_0}{z_0}) = \\frac{\\pi/2 + \\arctan \\frac{x-x_0}{z_0}}{\\pi}.\n",
      "$$\n",
      "Differentiating we obtain the probability distribution of the radar positions that would detect a signal:\n",
      "$$\n",
      "f(x, x_0, z_0) = \\frac{1}{\\pi} \\frac{z_0}{z_0^2 + (x-x_0)^2},\n",
      "$$\n",
      "that is, a Cauchy distribution. Therefore, our likelihood function for a given pair $(x_0,z_0)$, and a set of fixed observations $x_i$, is given by the product\n",
      "$$\n",
      "\\mathcal{L}(x_0, z_0) = \\prod_i f(x_i, x_0, z_0) = \\prod_i \\frac{1}{\\pi} \\frac{z_0}{z_0^2 + (x_i-x_0)^2}.\n",
      "$$\n",
      "In practice, we will only deal with the logarithm of probabilities rather than probabilities themselves.\n",
      "\n",
      "For the prior, we can assume essentially anything that covers the observed range of $x$. A gaussian centered at $x=0$ with $\\sigma = 20$ will do the job. We also note that $z_0$ is kept fixed at 12 km in this question.\n",
      "\n",
      "We use emcee (http://dan.iel.fm/emcee/) with 100 walkers to generate our MCMC chains."
     ]
    },
    {
     "cell_type": "code",
     "collapsed": false,
     "input": [
      "# set random seed\n",
      "np.random.seed(32)\n",
      "\n",
      "# read data\n",
      "dt = np.dtype([('time', np.float64), ('position', np.float64)])\n",
      "data = np.loadtxt('signals.txt', dtype=dt)\n",
      "\n",
      "# get positions at t=1\n",
      "positions = data[data['time'] == 1]['position']\n",
      "\n",
      "\n",
      "# The likelihood function is a product of Cauchy distributions\n",
      "def cauchy(x,x0,z0):\n",
      "    return 1./np.pi * z0 / (z0**2 + (x-x0)**2)\n",
      "\n",
      "def loglikelihood(x0,z0,positions):\n",
      "    ll = 0.\n",
      "    for x in positions:\n",
      "        ll += np.log(cauchy(x,x0,z0))\n",
      "    return ll\n",
      "\n",
      "# For the prior, we can assume almost anything that covers the range\n",
      "# A gaussian centered at x=0 with std = 20 will do the job\n",
      "# On the other hand, the height is kept fixed at 12 km\n",
      "def gaussian(x,mu,sigma):\n",
      "    return 1./(np.sqrt(2.*np.pi)*sigma) * np.exp(-(x-mu)**2/(2.*sigma**2))\n",
      "\n",
      "def logprior(x0,z0):\n",
      "    sig = 20.\n",
      "    mu = 0.\n",
      "    return np.log(gaussian(x0,mu,sig))\n",
      "\n",
      "# Posterior distribution\n",
      "def logposterior(x0,z0,positions):\n",
      "    return loglikelihood(x0,z0,positions) + logprior(x0,z0)\n",
      "\n",
      "# Wrapper function for emcee\n",
      "def lnprob(p, positions):\n",
      "    return logposterior(p[0], p[1], positions)\n"
     ],
     "language": "python",
     "metadata": {},
     "outputs": [],
     "prompt_number": 2
    },
    {
     "cell_type": "markdown",
     "metadata": {},
     "source": [
      "Now we run the MCMC chain:"
     ]
    },
    {
     "cell_type": "code",
     "collapsed": false,
     "input": [
      "# Draw samples from posterior distribution using emcee with 100 walkers\n",
      "nwalkers = 100\n",
      "ndim = 2\n",
      "# Initialize the walkers at random positions, e.g. normally distributed \n",
      "# around x=0 with sig=10\n",
      "z0 = 12.0  # fixed in question 1\n",
      "p0 = [np.array([np.random.normal(0., 10.), z0]) for i in range(nwalkers)]\n",
      "\n",
      "# Run MCMC\n",
      "nsamples = 1000\n",
      "sampler = emcee.EnsembleSampler(nwalkers, ndim, lnprob, args=[positions])\n",
      "sampler.run_mcmc(p0, nsamples)\n",
      "\n",
      "burnin = nsamples/10\n",
      "x = sampler.flatchain[burnin:,0]\n",
      "\n",
      "# Sort to find 16th and 84th percentiles\n",
      "x.sort()\n",
      "index_lower = int(0.16 * len(x))\n",
      "index_upper = int(0.84 * len(x))\n",
      "\n",
      "\n",
      "# Get histogram and MAP value\n",
      "nbins = 100\n",
      "bin_edges = np.linspace(np.min(x), np.max(x), nbins)\n",
      "freq, bin_edges = np.histogram(x, bins=bin_edges)\n",
      "\n",
      "index_map = np.argmax(freq)\n",
      "# Take middle point\n",
      "x_map = 0.5*(bin_edges[index_map] + bin_edges[index_map+1])\n",
      "\n",
      "print 'MAP value:'\n",
      "print 'x = %g (%g, %g)' % (x_map, x[index_lower], x[index_upper])\n"
     ],
     "language": "python",
     "metadata": {},
     "outputs": [
      {
       "output_type": "stream",
       "stream": "stdout",
       "text": [
        "MAP value:\n",
        "x = 1.31216 (-1.79443, 4.19723)\n"
       ]
      }
     ],
     "prompt_number": 3
    },
    {
     "cell_type": "markdown",
     "metadata": {},
     "source": [
      "And we plot:"
     ]
    },
    {
     "cell_type": "code",
     "collapsed": false,
     "input": [
      "# Plot\n",
      "binwidth = bin_edges[1] - bin_edges[0]\n",
      "ax = pylab.axes()\n",
      "ax.bar(bin_edges[:-1], freq, width=binwidth)\n",
      "\n",
      "#ax.set_xlim(-10,10)\n",
      "ax.set_xlabel('x (km)')\n",
      "ax.set_ylabel('Frequency of MCMC samples')"
     ],
     "language": "python",
     "metadata": {},
     "outputs": [
      {
       "output_type": "pyout",
       "prompt_number": 4,
       "text": [
        "<matplotlib.text.Text at 0x3512510>"
       ]
      },
      {
       "output_type": "display_data",
       "png": "[encoded data removed]"
      }
     ],
     "prompt_number": 4
    },
    {
     "cell_type": "markdown",
     "metadata": {},
     "source": [
      "At t=1, the most likely x-position of the asteroid is 0.6 (-1.8, 4.2) km, where the terms inside the parentheses indicate the 68% confidence interval, or the extent or the error bar."
     ]
    },
    {
     "cell_type": "heading",
     "level": 3,
     "metadata": {},
     "source": [
      "Question 2"
     ]
    },
    {
     "cell_type": "markdown",
     "metadata": {},
     "source": [
      "Now we relax the assumption that $z_0 = 12$ km. Since we know that the height of the asteroid is around 10 km, we assume a gaussian prior for $z_0$ centered at 10 km with $\\sigma = 1$ km."
     ]
    },
    {
     "cell_type": "code",
     "collapsed": false,
     "input": [
      "# set random seed\n",
      "np.random.seed(32)\n",
      "\n",
      "# read data\n",
      "dt = np.dtype([('time', np.float64), ('position', np.float64)])\n",
      "data = np.loadtxt('signals.txt', dtype=dt)\n",
      "\n",
      "# get positions at t=1\n",
      "positions = data[data['time'] == 1]['position']\n",
      "\n",
      "\n",
      "# The likelihood function is a product of Cauchy distributions\n",
      "def cauchy(x,x0,z0):\n",
      "    return 1./np.pi * z0 / (z0**2 + (x-x0)**2)\n",
      "\n",
      "def loglikelihood(x0,z0,positions):\n",
      "    ll = 0.\n",
      "    for x in positions:\n",
      "        ll += np.log(cauchy(x,x0,z0))\n",
      "    return ll\n",
      "\n",
      "# For the prior, we can assume almost anything that covers the range\n",
      "# A gaussian centered at x=0 with std = 20 will do the job\n",
      "def gaussian(x,mu,sigma):\n",
      "    return 1./(np.sqrt(2.*np.pi)*sigma) * np.exp(-(x-mu)**2/(2.*sigma**2))\n",
      "\n",
      "def logprior_x(x0):\n",
      "    sig = 20.\n",
      "    mu = 0.\n",
      "    return np.log(gaussian(x0,mu,sig))\n",
      "\n",
      "# Assume that the prior in the z-direction is a Gaussian centered at z=10\n",
      "# with sigma=1\n",
      "def logprior_z(z0):\n",
      "    sig = 1.\n",
      "    mu = 10.\n",
      "    return np.log(gaussian(z0,mu,sig))\n",
      "\n",
      "# If x0 and z0 are independent, the prior is the product of the two\n",
      "def logprior(x0,z0):\n",
      "    return logprior_x(x0) + logprior_z(z0)\n",
      "\n",
      "\n",
      "# Posterior distribution\n",
      "def logposterior(x0,z0,positions):\n",
      "    return loglikelihood(x0,z0,positions) + logprior(x0,z0)\n",
      "\n",
      "# Wrapper function for emcee\n",
      "def lnprob(p, positions):\n",
      "    return logposterior(p[0], p[1], positions)\n"
     ],
     "language": "python",
     "metadata": {},
     "outputs": [],
     "prompt_number": 5
    },
    {
     "cell_type": "markdown",
     "metadata": {},
     "source": [
      "Run the MCMC chain:"
     ]
    },
    {
     "cell_type": "code",
     "collapsed": false,
     "input": [
      "# Draw samples from posterior distribution using emcee with 100 walkers\n",
      "nwalkers = 100\n",
      "ndim = 2\n",
      "# Initialize the walkers at random positions, e.g. normally distributed \n",
      "# around x=0 with sig=10 and around z=10 with sig=0.5\n",
      "p0 = [np.array([np.random.normal(0., 10.), np.random.normal(10., .5)]) for i in range(nwalkers)]\n",
      "\n",
      "# Run MCMC\n",
      "nsamples = 1000\n",
      "sampler = emcee.EnsembleSampler(nwalkers, ndim, lnprob, args=[positions])\n",
      "sampler.run_mcmc(p0, nsamples)\n",
      "\n",
      "burnin = nsamples/10\n",
      "x = sampler.flatchain[burnin:,0]\n",
      "z = sampler.flatchain[burnin:,1]\n"
     ],
     "language": "python",
     "metadata": {},
     "outputs": [],
     "prompt_number": 6
    },
    {
     "cell_type": "markdown",
     "metadata": {},
     "source": [
      "Estimate x0:"
     ]
    },
    {
     "cell_type": "code",
     "collapsed": false,
     "input": [
      "# ------------------------ ESTIMATE X ---------------------------\n",
      "\n",
      "# Sort to find 16th and 84th percentiles\n",
      "x.sort()\n",
      "index_lower = int(0.16 * len(x))\n",
      "index_upper = int(0.84 * len(x))\n",
      "\n",
      "# Get histogram and MAP value\n",
      "nbins = 100\n",
      "bin_edges = np.linspace(np.min(x), np.max(x), nbins)\n",
      "freq, bin_edges = np.histogram(x, bins=bin_edges)\n",
      "\n",
      "index_map = np.argmax(freq)\n",
      "# Take middle point\n",
      "x_map = 0.5*(bin_edges[index_map] + bin_edges[index_map+1])\n",
      "\n",
      "print 'MAP value:'\n",
      "print 'x = %g (%g, %g)' % (x_map, x[index_lower], x[index_upper])\n"
     ],
     "language": "python",
     "metadata": {},
     "outputs": [
      {
       "output_type": "stream",
       "stream": "stdout",
       "text": [
        "MAP value:\n",
        "x = 1.50202 (-0.901777, 3.32349)\n"
       ]
      }
     ],
     "prompt_number": 7
    },
    {
     "cell_type": "markdown",
     "metadata": {},
     "source": [
      "Plot:"
     ]
    },
    {
     "cell_type": "code",
     "collapsed": false,
     "input": [
      "# Plot\n",
      "binwidth = bin_edges[1] - bin_edges[0]\n",
      "ax = pylab.axes()\n",
      "ax.bar(bin_edges[:-1], freq, width=binwidth)\n",
      "\n",
      "#ax.set_xlim(-10,10)\n",
      "ax.set_xlabel('x (km)')\n",
      "ax.set_ylabel('Frequency')"
     ],
     "language": "python",
     "metadata": {},
     "outputs": [
      {
       "output_type": "pyout",
       "prompt_number": 8,
       "text": [
        "<matplotlib.text.Text at 0x3e64b10>"
       ]
      },
      {
       "output_type": "display_data",
       "png": "[encoded data removed]"
      }
     ],
     "prompt_number": 8
    },
    {
     "cell_type": "markdown",
     "metadata": {},
     "source": [
      "Estimate z0:"
     ]
    },
    {
     "cell_type": "code",
     "collapsed": false,
     "input": [
      "# ------------------------ ESTIMATE Z ---------------------------\n",
      "\n",
      "# Sort to find 16th and 84th percentiles\n",
      "z.sort()\n",
      "index_lower = int(0.16 * len(z))\n",
      "index_upper = int(0.84 * len(z))\n",
      "\n",
      "# Get histogram and MAP value\n",
      "nbins = 100\n",
      "bin_edges = np.linspace(np.min(z), np.max(z), nbins)\n",
      "freq, bin_edges = np.histogram(z, bins=bin_edges)\n",
      "\n",
      "index_map = np.argmax(freq)\n",
      "# Take middle point\n",
      "z_map = 0.5*(bin_edges[index_map] + bin_edges[index_map+1])\n",
      "\n",
      "\n",
      "print 'MAP value:'\n",
      "print 'z = %g (%g, %g)' % (z_map, z[index_lower], z[index_upper])"
     ],
     "language": "python",
     "metadata": {},
     "outputs": [
      {
       "output_type": "stream",
       "stream": "stdout",
       "text": [
        "MAP value:\n",
        "z = 9.59759 (8.59825, 10.4194)\n"
       ]
      }
     ],
     "prompt_number": 9
    },
    {
     "cell_type": "markdown",
     "metadata": {},
     "source": [
      "Plot:"
     ]
    },
    {
     "cell_type": "code",
     "collapsed": false,
     "input": [
      "# Plot\n",
      "binwidth = bin_edges[1] - bin_edges[0]\n",
      "ax = pylab.axes()\n",
      "ax.bar(bin_edges[:-1], freq, width=binwidth)\n",
      "\n",
      "#ax.set_xlim(-10,10)\n",
      "ax.set_xlabel('z (km)')\n",
      "ax.set_ylabel('Frequency')"
     ],
     "language": "python",
     "metadata": {},
     "outputs": [
      {
       "output_type": "pyout",
       "prompt_number": 10,
       "text": [
        "<matplotlib.text.Text at 0x3b293d0>"
       ]
      },
      {
       "output_type": "display_data",
       "png": "[encoded data removed]"
      }
     ],
     "prompt_number": 10
    },
    {
     "cell_type": "markdown",
     "metadata": {},
     "source": [
      "In this case the most likely position of the asteroid is given by $x_0$ = 1.5 (-0.9, 3.4) km and $z_0$ = 9.5 (8.6, 10.4) km."
     ]
    },
    {
     "cell_type": "heading",
     "level": 3,
     "metadata": {},
     "source": [
      "Question 3"
     ]
    },
    {
     "cell_type": "markdown",
     "metadata": {},
     "source": [
      "We repeat the above procedure for all times from $t=1$ to $t=10$. We reduce the number of samples from 1000 to 100, but since we are using 100 walkers (we are using emcee) we can still expect a reasonably accurate distribution.\n",
      "\n",
      "After obtaining the $(x_0,z_0)$ pairs for all times and their corresponding errors, we fit the data for $x$ and $z$ individually with a straight line using weighted least squares."
     ]
    },
    {
     "cell_type": "code",
     "collapsed": false,
     "input": [
      "# ----------------------- BAYESIAN FUNCTIONS -----------------------\n",
      "\n",
      "def gaussian(x,mu,sigma):\n",
      "    return 1./(np.sqrt(2.*np.pi)*sigma) * np.exp(-(x-mu)**2/(2.*sigma**2))\n",
      "\n",
      "# The likelihood function is a product of Cauchy distributions\n",
      "def cauchy(x,x0,z0):\n",
      "    return 1./np.pi * z0 / (z0**2 + (x-x0)**2)\n",
      "\n",
      "def loglikelihood(x0,z0,positions):\n",
      "    ll = 0.\n",
      "    for x in positions:\n",
      "        ll += np.log(cauchy(x,x0,z0))\n",
      "    return ll\n",
      "\n",
      "\n",
      "# ----------------------- SOME PARAMETERS ----------------------\n",
      "\n",
      "nsamples = 1000  # for MCMC chain\n",
      "nbins = 100  # for estimating MAP\n",
      "\n",
      "# ----------------------------- MAIN --------------------------\n",
      "\n",
      "# set random seed\n",
      "np.random.seed(32)\n",
      "\n",
      "# read data\n",
      "dt = np.dtype([('time', np.float64), ('position', np.float64)])\n",
      "data = np.loadtxt('signals.txt', dtype=dt)\n",
      "\n",
      "tmin = 1; tmax = 10\n",
      "times = np.arange(tmin, tmax+1, dtype=np.int64)\n",
      "num_times = tmax - tmin + 1\n",
      "\n",
      "x_values = np.zeros(num_times)\n",
      "x_errors = np.zeros(num_times)\n",
      "z_values = np.zeros(num_times)\n",
      "z_errors = np.zeros(num_times)"
     ],
     "language": "python",
     "metadata": {},
     "outputs": [],
     "prompt_number": 11
    },
    {
     "cell_type": "markdown",
     "metadata": {},
     "source": [
      "Now we iterate for all times:"
     ]
    },
    {
     "cell_type": "code",
     "collapsed": false,
     "input": [
      "for k in range(num_times):\n",
      "    cur_time = times[k]\n",
      "    # get positions at current time\n",
      "    positions = data[data['time'] == cur_time]['position']\n",
      "\n",
      "    # If first time, choose a gaussian centered at x=0 with std = 20 for x\n",
      "    # and a gaussian centered at z=10 with sigma=1 for z\n",
      "    if k == 0:\n",
      "        def logprior_x(x0):\n",
      "            mu = 0.\n",
      "            sig = 20.\n",
      "            return np.log(gaussian(x0,mu,sig))\n",
      "\n",
      "        def logprior_z(z0):\n",
      "            mu = 10.\n",
      "            sig = 1.\n",
      "            return np.log(gaussian(z0,mu,sig))\n",
      "\n",
      "    else:\n",
      "        # Use information from previous time\n",
      "        def logprior_x(x0):\n",
      "            mu = x_values[k-1]\n",
      "            sig = x_errors[k-1]\n",
      "            return np.log(gaussian(x0,mu,sig))\n",
      "\n",
      "        def logprior_z(z0):\n",
      "            mu = z_values[k-1]\n",
      "            sig = z_errors[k-1]\n",
      "            return np.log(gaussian(z0,mu,sig))\n",
      "\n",
      "    # If x0 and z0 are independent, the prior is the product of the two\n",
      "    def logprior(x0,z0):\n",
      "        return logprior_x(x0) + logprior_z(z0)\n",
      "\n",
      "    # Posterior distribution\n",
      "    def logposterior(x0,z0,positions):\n",
      "        return loglikelihood(x0,z0,positions) + logprior(x0,z0)\n",
      "\n",
      "    # Wrapper function for emcee\n",
      "    def lnprob(p, positions):\n",
      "        return logposterior(p[0], p[1], positions)\n",
      "\n",
      "    # Draw samples from posterior distribution using emcee with 100 walkers\n",
      "    nwalkers = 100\n",
      "    ndim = 2\n",
      "    # Initialize the walkers at random positions.\n",
      "    # If first time: gaussians around x=0 with sig=10 and around z=10 with sig=0.5\n",
      "    # Otherwise, use same parameters as the prior\n",
      "    if k == 0:\n",
      "        p0 = [np.array([np.random.normal(0., 10.), np.random.normal(10., .5)]) for i in range(nwalkers)]\n",
      "    else:\n",
      "        p0 = [np.array([np.random.normal(x_values[k-1], x_errors[k-1]),\n",
      "                        np.random.normal(z_values[k-1], z_errors[k-1])]) for i in range(nwalkers)]\n",
      "\n",
      "\n",
      "    # Run MCMC\n",
      "    sampler = emcee.EnsembleSampler(nwalkers, ndim, lnprob, args=[positions])\n",
      "    sampler.run_mcmc(p0, nsamples)\n",
      "\n",
      "    burnin = nsamples/10\n",
      "    x = sampler.flatchain[burnin:,0]\n",
      "    z = sampler.flatchain[burnin:,1]\n",
      "\n",
      "\n",
      "    # ------------------------ ESTIMATE X ---------------------------\n",
      "\n",
      "    # Sort to find 16th and 84th percentiles\n",
      "    x.sort()\n",
      "    index_lower = int(0.16 * len(x))\n",
      "    index_upper = int(0.84 * len(x))\n",
      "\n",
      "    # Get histogram and MAP value\n",
      "    bin_edges = np.linspace(np.min(x), np.max(x), nbins)\n",
      "    freq, bin_edges = np.histogram(x, bins=bin_edges)\n",
      "\n",
      "    index_map = np.argmax(freq)\n",
      "    # Take middle point\n",
      "    x_map = 0.5*(bin_edges[index_map] + bin_edges[index_map+1])\n",
      "\n",
      "    print 'Time = %d' % (cur_time)\n",
      "    print 'x = %g (%g, %g)' % (x_map, x[index_lower], x[index_upper])\n",
      "\n",
      "    # Save to array\n",
      "    x_values[k] = x_map\n",
      "    x_errors[k] = x[index_upper] - x[index_lower]\n",
      "\n",
      "\n",
      "    # ------------------------ ESTIMATE Z ---------------------------\n",
      "\n",
      "    # Sort to find 16th and 84th percentiles\n",
      "    z.sort()\n",
      "    index_lower = int(0.16 * len(z))\n",
      "    index_upper = int(0.84 * len(z))\n",
      "\n",
      "    # Get histogram and MAP value\n",
      "    bin_edges = np.linspace(np.min(z), np.max(z), nbins)\n",
      "    freq, bin_edges = np.histogram(z, bins=bin_edges)\n",
      "\n",
      "    index_map = np.argmax(freq)\n",
      "    # Take middle point\n",
      "    z_map = 0.5*(bin_edges[index_map] + bin_edges[index_map+1])\n",
      "\n",
      "    print 'z = %g (%g, %g)' % (z_map, z[index_lower], z[index_upper])\n",
      "\n",
      "    # Save to array\n",
      "    z_values[k] = z_map\n",
      "    z_errors[k] = z[index_upper] - z[index_lower]"
     ],
     "language": "python",
     "metadata": {},
     "outputs": [
      {
       "output_type": "stream",
       "stream": "stdout",
       "text": [
        "Time = 1\n",
        "x = 1.24384 (-0.961529, 3.35274)\n",
        "z = 9.46126 (8.6395, 10.4155)\n",
        "Time = 2"
       ]
      },
      {
       "output_type": "stream",
       "stream": "stdout",
       "text": [
        "\n",
        "x = 0.719317 (-1.01981, 3.00017)\n",
        "z = 9.01394 (7.38671, 10.1507)\n",
        "Time = 3"
       ]
      },
      {
       "output_type": "stream",
       "stream": "stdout",
       "text": [
        "\n",
        "x = 1.34639 (-0.451333, 3.03572)\n",
        "z = 7.6399 (6.37329, 9.3595)\n",
        "Time = 4"
       ]
      },
      {
       "output_type": "stream",
       "stream": "stdout",
       "text": [
        "\n",
        "x = 1.59717 (-0.670306, 2.00182)\n",
        "z = 6.19436 (5.04706, 7.5661)\n",
        "Time = 5"
       ]
      },
      {
       "output_type": "stream",
       "stream": "stdout",
       "text": [
        "\n",
        "x = 0.415351 (-0.758038, 1.73227)\n",
        "z = 5.36135 (4.50734, 6.72553)\n",
        "Time = 6"
       ]
      },
      {
       "output_type": "stream",
       "stream": "stdout",
       "text": [
        "\n",
        "x = 0.0639597 (-1.09624, 1.25366)\n",
        "z = 5.30877 (4.13213, 6.29479)\n",
        "Time = 7"
       ]
      },
      {
       "output_type": "stream",
       "stream": "stdout",
       "text": [
        "\n",
        "x = -0.43865 (-1.25686, 0.476088)\n",
        "z = 4.04139 (3.37676, 5.02648)\n",
        "Time = 8"
       ]
      },
      {
       "output_type": "stream",
       "stream": "stdout",
       "text": [
        "\n",
        "x = -0.85298 (-1.68817, -0.16186)\n",
        "z = 3.32919 (2.6612, 4.08022)\n",
        "Time = 9"
       ]
      },
      {
       "output_type": "stream",
       "stream": "stdout",
       "text": [
        "\n",
        "x = -1.2226 (-1.768, -0.79276)\n",
        "z = 1.91624 (1.70182, 2.63151)\n",
        "Time = 10"
       ]
      },
      {
       "output_type": "stream",
       "stream": "stdout",
       "text": [
        "\n",
        "x = -1.83487 (-2.04053, -1.61444)\n",
        "z = 0.959503 (0.790204, 1.22171)\n"
       ]
      },
      {
       "output_type": "stream",
       "stream": "stderr",
       "text": [
        "-c:13: RuntimeWarning: invalid value encountered in log\n"
       ]
      }
     ],
     "prompt_number": 12
    },
    {
     "cell_type": "markdown",
     "metadata": {},
     "source": [
      "We can plot z vs x to visualize the trajectory:"
     ]
    },
    {
     "cell_type": "code",
     "collapsed": false,
     "input": [
      "# Plot x and z values\n",
      "ax = pylab.axes()\n",
      "ax.errorbar(x_values, z_values, x_errors/2., z_errors/2., fmt='.')\n",
      "ax.set_xlabel('x (km)')\n",
      "ax.set_ylabel('z (km)')"
     ],
     "language": "python",
     "metadata": {},
     "outputs": [
      {
       "output_type": "pyout",
       "prompt_number": 13,
       "text": [
        "<matplotlib.text.Text at 0x4696190>"
       ]
      },
      {
       "output_type": "display_data",
       "png": "[encoded data removed]"
      }
     ],
     "prompt_number": 13
    },
    {
     "cell_type": "markdown",
     "metadata": {},
     "source": [
      "Linear regression for x:"
     ]
    },
    {
     "cell_type": "code",
     "collapsed": false,
     "input": [
      "# Linear regression for x: We want a fit x = vx*t + x0\n",
      "# Rewrite as 'x = Ap', where A = [[t 1]] and p = [[vx], [x0]], and use lstsq to solve for p\n",
      "\n",
      "A = np.vstack([times, np.ones(len(times))]).T\n",
      "vx, x0 = np.linalg.lstsq(A, x_values)[0]\n",
      "\n",
      "print '\\nLinear least squares values:'\n",
      "print 'vx = %g km/s' % (vx)\n",
      "print 'x0 = %g km' % (x0)\n",
      "\n",
      "# Plot x values and linear fit\n",
      "ax = pylab.axes()\n",
      "ax.errorbar(times, x_values, x_errors/2., fmt='.')\n",
      "ax.plot(times, vx*times + x0, 'r')\n",
      "ax.set_xlabel('Time (s)')\n",
      "ax.set_ylabel('x (km)')"
     ],
     "language": "python",
     "metadata": {},
     "outputs": [
      {
       "output_type": "stream",
       "stream": "stdout",
       "text": [
        "\n",
        "Linear least squares values:\n",
        "vx = -0.356106 km/s\n",
        "x0 = 2.06228 km\n"
       ]
      },
      {
       "output_type": "pyout",
       "prompt_number": 14,
       "text": [
        "<matplotlib.text.Text at 0x493df50>"
       ]
      },
      {
       "output_type": "display_data",
       "png": "[encoded data removed]"
      }
     ],
     "prompt_number": 14
    },
    {
     "cell_type": "markdown",
     "metadata": {},
     "source": [
      "Linear regression for z:"
     ]
    },
    {
     "cell_type": "code",
     "collapsed": false,
     "input": [
      "# Linear regression for z is analogous to x\n",
      "A = np.vstack([times, np.ones(len(times))]).T\n",
      "vz, z0 = np.linalg.lstsq(A, z_values)[0]\n",
      "\n",
      "print '\\nLinear least squares values:'\n",
      "print 'vz = %g km/s' % (vz)\n",
      "print 'z0 = %g km' % (z0)\n",
      "\n",
      "# Plot z values\n",
      "ax = pylab.axes()\n",
      "ax.errorbar(times, z_values, z_errors/2., fmt='.')\n",
      "ax.plot(times, vz*times + z0, 'r')\n",
      "ax.set_xlabel('Time (s)')\n",
      "ax.set_ylabel('z (km)')"
     ],
     "language": "python",
     "metadata": {},
     "outputs": [
      {
       "output_type": "stream",
       "stream": "stdout",
       "text": [
        "\n",
        "Linear least squares values:\n",
        "vz = -0.934938 km/s\n",
        "z0 = 10.4647 km\n"
       ]
      },
      {
       "output_type": "pyout",
       "prompt_number": 15,
       "text": [
        "<matplotlib.text.Text at 0x4b870d0>"
       ]
      },
      {
       "output_type": "display_data",
       "png": "[encoded data removed]"
      }
     ],
     "prompt_number": 15
    },
    {
     "cell_type": "markdown",
     "metadata": {},
     "source": [
      "We obtain the following best fit for the velocities and intercepts using linear least squares:\n",
      "\n",
      "vx = -0.356106 km/s\n",
      "\n",
      "x0 = 2.06228 km\n",
      "\n",
      "vz = -0.934938 km/s\n",
      "\n",
      "z0 = 10.4647 km"
     ]
    },
    {
     "cell_type": "heading",
     "level": 3,
     "metadata": {},
     "source": [
      "Question 4"
     ]
    },
    {
     "cell_type": "markdown",
     "metadata": {},
     "source": [
      "At this point, we already found the most likely values of $(x_0,z_0)$ for all times from 1 to 10. We now use this information to obtain a Bayesian estimate on the slope and intercept of the two linear fits:\n",
      "$$\n",
      "x(t) = v_x t + x_0\n",
      "$$\n",
      "$$\n",
      "z(t) = v_z t + z_0\n",
      "$$\n",
      "For the prior probabilities, we use normal distributions centered roughly around the values obtained via simple linear least squares fitting, with $\\sigma = 1$. The likelihood function is obtained assuming that the errors are gaussian."
     ]
    },
    {
     "cell_type": "code",
     "collapsed": false,
     "input": [
      "# Calculate vx and x0\n",
      "# Instead of linear regression, use Bayesian approach\n",
      "\n",
      "# Using the parameters from the linear fit carried out in the previous section,\n",
      "# we choose the following parameters:\n",
      "vx_0 = 0.\n",
      "x0_0 = 3.\n",
      "# We take the sigma for all parameters to be 1.0\n",
      "sigma_w = 1.\n",
      "\n",
      "# w stands for both parameters vx_0 and x0_0\n",
      "def logprior_w_x(vx, x0):\n",
      "    return np.log(gaussian(vx, vx_0, sigma_w)) + np.log(gaussian(x0, x0_0, sigma_w))\n",
      "\n",
      "sigma_x = np.std(x_values)\n",
      "def loglikelihood_w_x(vx,x0):\n",
      "    # Linear regression matrix (see previous question)\n",
      "    A = np.vstack([times, np.ones(len(times))]).T\n",
      "    w = np.array([vx, x0])\n",
      "    return -np.linalg.norm((x_values - np.dot(A,w))/sigma_x)\n",
      "\n",
      "def logposterior_w_x(vx,x0):\n",
      "    return loglikelihood_w_x(vx,x0) + logprior_w_x(vx,x0)\n",
      "\n",
      "# Wrapper for emcee\n",
      "def lnprob(w):\n",
      "    return logposterior_w_x(w[0],w[1])\n",
      "\n",
      "# Initial values of chain\n",
      "\n",
      "w0 = [np.array([np.random.normal(vx_0, sigma_w), np.random.normal(x0_0, sigma_w)]) for i in range(nwalkers)]\n",
      "\n",
      "# Run MCMC\n",
      "sampler = emcee.EnsembleSampler(nwalkers, ndim, lnprob)\n",
      "sampler.run_mcmc(w0, nsamples)\n",
      "\n",
      "burnin = nsamples/10\n",
      "vx_mcmc = sampler.flatchain[burnin:,0]\n",
      "x0_mcmc = sampler.flatchain[burnin:,1]"
     ],
     "language": "python",
     "metadata": {},
     "outputs": [],
     "prompt_number": 16
    },
    {
     "cell_type": "markdown",
     "metadata": {},
     "source": [
      "Estimate vx:"
     ]
    },
    {
     "cell_type": "code",
     "collapsed": false,
     "input": [
      "# -------------------------determine vx ---------------------------\n",
      "\n",
      "# Sort to find 16th and 84th percentiles\n",
      "vx_mcmc.sort()\n",
      "index_lower = int(0.16 * len(vx_mcmc))\n",
      "index_upper = int(0.84 * len(vx_mcmc))\n",
      "\n",
      "# Get histogram and MAP value\n",
      "bin_edges = np.linspace(np.min(vx_mcmc), np.max(vx_mcmc), nbins)\n",
      "freq, bin_edges = np.histogram(vx_mcmc, bins=bin_edges)\n",
      "\n",
      "index_map = np.argmax(freq)\n",
      "# Take middle point\n",
      "vx_map = 0.5*(bin_edges[index_map] + bin_edges[index_map+1])\n",
      "\n",
      "print 'vx = %g (%g, %g)' % (vx_map, vx_mcmc[index_lower], vx_mcmc[index_upper])\n",
      "\n",
      "# Plot\n",
      "binwidth = bin_edges[1] - bin_edges[0]\n",
      "ax = pylab.axes()\n",
      "ax.bar(bin_edges[:-1], freq, width=binwidth)\n",
      "ax.set_xlabel('vx (km/s)')"
     ],
     "language": "python",
     "metadata": {},
     "outputs": [
      {
       "output_type": "stream",
       "stream": "stdout",
       "text": [
        "vx = -0.411401 (-0.566091, -0.274914)\n"
       ]
      },
      {
       "output_type": "pyout",
       "prompt_number": 17,
       "text": [
        "<matplotlib.text.Text at 0x4b85b90>"
       ]
      },
      {
       "output_type": "display_data",
       "png": "[encoded data removed]"
      }
     ],
     "prompt_number": 17
    },
    {
     "cell_type": "markdown",
     "metadata": {},
     "source": [
      "Estimate x0:"
     ]
    },
    {
     "cell_type": "code",
     "collapsed": false,
     "input": [
      "# -------------------------determine x0 ---------------------------\n",
      "\n",
      "# Sort to find 16th and 84th percentiles\n",
      "x0_mcmc.sort()\n",
      "index_lower = int(0.16 * len(x0_mcmc))\n",
      "index_upper = int(0.84 * len(x0_mcmc))\n",
      "\n",
      "# Get histogram and MAP value\n",
      "bin_edges = np.linspace(np.min(x0_mcmc), np.max(x0_mcmc), nbins)\n",
      "freq, bin_edges = np.histogram(x0_mcmc, bins=bin_edges)\n",
      "\n",
      "index_map = np.argmax(freq)\n",
      "# Take middle point\n",
      "x0_map = 0.5*(bin_edges[index_map] + bin_edges[index_map+1])\n",
      "\n",
      "print 'x0 = %g (%g, %g)' % (x0_map, x0_mcmc[index_lower], x0_mcmc[index_upper])\n",
      "\n",
      "# Plot\n",
      "binwidth = bin_edges[1] - bin_edges[0]\n",
      "ax = pylab.axes()\n",
      "ax.bar(bin_edges[:-1], freq, width=binwidth)\n",
      "ax.set_xlabel('x0 (km)')"
     ],
     "language": "python",
     "metadata": {},
     "outputs": [
      {
       "output_type": "stream",
       "stream": "stdout",
       "text": [
        "x0 = 2.41254 (1.828, 3.36184)\n"
       ]
      },
      {
       "output_type": "pyout",
       "prompt_number": 18,
       "text": [
        "<matplotlib.text.Text at 0x52d0e90>"
       ]
      },
      {
       "output_type": "display_data",
       "png": "[encoded data removed]"
      }
     ],
     "prompt_number": 18
    },
    {
     "cell_type": "markdown",
     "metadata": {},
     "source": [
      "Do the same for vz and z0:"
     ]
    },
    {
     "cell_type": "code",
     "collapsed": false,
     "input": [
      "# -------------------- vz and z0 ----------------------------\n",
      "\n",
      "# Using the parameters from the linear fit carried out in the previous section,\n",
      "# we choose the following parameters:\n",
      "vz_0 = -1.\n",
      "z0_0 = 10.\n",
      "\n",
      "# w stands for both parameters vz and z0\n",
      "def logprior_w_z(vz, z0):\n",
      "    return np.log(gaussian(vz, vz_0, sigma_w)) + np.log(gaussian(z0, z0_0, sigma_w))\n",
      "\n",
      "sigma_z = np.std(z_values)\n",
      "def loglikelihood_w_z(vz,z0):\n",
      "    # Linear regression matrix (see previous question)\n",
      "    A = np.vstack([times, np.ones(len(times))]).T\n",
      "    w = np.array([vz, z0])\n",
      "    return -np.linalg.norm((z_values - np.dot(A,w))/sigma_z)\n",
      "\n",
      "def logposterior_w_z(vz,z0):\n",
      "    return loglikelihood_w_z(vz,z0) + logprior_w_z(vz,z0)\n",
      "\n",
      "# Wrapper for emcee\n",
      "def lnprob(w):\n",
      "    return logposterior_w_z(w[0],w[1])\n",
      "\n",
      "# Initial values of chain\n",
      "\n",
      "w0 = [np.array([np.random.normal(vz_0, sigma_w), np.random.normal(z0_0, sigma_w)]) for i in range(nwalkers)]\n",
      "\n",
      "# Run MCMC\n",
      "sampler = emcee.EnsembleSampler(nwalkers, ndim, lnprob)\n",
      "sampler.run_mcmc(w0, nsamples)\n",
      "\n",
      "burnin = nsamples/10\n",
      "vz_mcmc = sampler.flatchain[burnin:,0]\n",
      "z0_mcmc = sampler.flatchain[burnin:,1]"
     ],
     "language": "python",
     "metadata": {},
     "outputs": [],
     "prompt_number": 19
    },
    {
     "cell_type": "markdown",
     "metadata": {},
     "source": [
      "Estimate vz:"
     ]
    },
    {
     "cell_type": "code",
     "collapsed": false,
     "input": [
      "# -------------------------determine vz ---------------------------\n",
      "\n",
      "# Sort to find 16th and 84th percentiles\n",
      "vz_mcmc.sort()\n",
      "index_lower = int(0.16 * len(vz_mcmc))\n",
      "index_upper = int(0.84 * len(vz_mcmc))\n",
      "\n",
      "# Get histogram and MAP value\n",
      "bin_edges = np.linspace(np.min(vz_mcmc), np.max(vz_mcmc), nbins)\n",
      "freq, bin_edges = np.histogram(vz_mcmc, bins=bin_edges)\n",
      "\n",
      "index_map = np.argmax(freq)\n",
      "# Take middle point\n",
      "vz_map = 0.5*(bin_edges[index_map] + bin_edges[index_map+1])\n",
      "\n",
      "print 'vz = %g (%g, %g)' % (vz_map, vz_mcmc[index_lower], vz_mcmc[index_upper])\n",
      "\n",
      "# Plot\n",
      "binwidth = bin_edges[1] - bin_edges[0]\n",
      "ax = pylab.axes()\n",
      "ax.bar(bin_edges[:-1], freq, width=binwidth)\n",
      "ax.set_xlabel('vz (km/s)')"
     ],
     "language": "python",
     "metadata": {},
     "outputs": [
      {
       "output_type": "stream",
       "stream": "stdout",
       "text": [
        "vz = -0.888458 (-1.10162, -0.676122)\n"
       ]
      },
      {
       "output_type": "pyout",
       "prompt_number": 20,
       "text": [
        "<matplotlib.text.Text at 0x558a550>"
       ]
      },
      {
       "output_type": "display_data",
       "png": "[encoded data removed]"
      }
     ],
     "prompt_number": 20
    },
    {
     "cell_type": "markdown",
     "metadata": {},
     "source": [
      "Estimate z0:"
     ]
    },
    {
     "cell_type": "code",
     "collapsed": false,
     "input": [
      "# -------------------------determine z0 ---------------------------\n",
      "\n",
      "# Sort to find 16th and 84th percentiles\n",
      "z0_mcmc.sort()\n",
      "index_lower = int(0.16 * len(z0_mcmc))\n",
      "index_upper = int(0.84 * len(z0_mcmc))\n",
      "\n",
      "# Get histogram and MAP value\n",
      "bin_edges = np.linspace(np.min(z0_mcmc), np.max(z0_mcmc), nbins)\n",
      "freq, bin_edges = np.histogram(z0_mcmc, bins=bin_edges)\n",
      "\n",
      "index_map = np.argmax(freq)\n",
      "# Take middle point\n",
      "z0_map = 0.5*(bin_edges[index_map] + bin_edges[index_map+1])\n",
      "\n",
      "print 'z0 = %g (%g, %g)' % (z0_map, z0_mcmc[index_lower], z0_mcmc[index_upper])\n",
      "\n",
      "# Plot\n",
      "binwidth = bin_edges[1] - bin_edges[0]\n",
      "ax = pylab.axes()\n",
      "ax.bar(bin_edges[:-1], freq, width=binwidth)\n",
      "ax.set_xlabel('z0 (km)')"
     ],
     "language": "python",
     "metadata": {},
     "outputs": [
      {
       "output_type": "stream",
       "stream": "stdout",
       "text": [
        "z0 = 10.1643 (9.23948, 10.9762)\n"
       ]
      },
      {
       "output_type": "pyout",
       "prompt_number": 21,
       "text": [
        "<matplotlib.text.Text at 0x5c9aad0>"
       ]
      },
      {
       "output_type": "display_data",
       "png": "[encoded data removed]"
      }
     ],
     "prompt_number": 21
    },
    {
     "cell_type": "markdown",
     "metadata": {},
     "source": [
      "Using the Bayesian approach, we obtain the following estimates for the velocities and intercepts, along with their 68% confidence intervals:\n",
      "\n",
      "vx = -0.411401 (-0.566091, -0.274914)\n",
      "\n",
      "x0 = 2.41254 (1.828, 3.36184)\n",
      "\n",
      "vz = -0.888458 (-1.10162, -0.676122)\n",
      "\n",
      "z0 = 10.1643 (9.23948, 10.9762)"
     ]
    },
    {
     "cell_type": "heading",
     "level": 3,
     "metadata": {},
     "source": [
      "Question 5"
     ]
    },
    {
     "cell_type": "markdown",
     "metadata": {},
     "source": [
      "Here we must be careful to define the likelihood at t=11 correctly. Although it is tempting to just obtain a pseudo-MCMC chain for x(t=11) and z(t=11) by direct extrapolation using the values from the previous MCMC chains for vx,x0 and vz,z0, we must do this using a proper Bayesian approach. Again, we define priors for $x_11$ and $z_11$ using the information we have, and here it is perfectly fine to use all the information we have. I assume normal distributions centered around the extrapolated value (using our best estimates for vx,x0,vz,z0) with $\\sigma$ given by the variances of the MCMC chains for vx,x0,vz,z0 (see code for details). For the likelihood, I compare each proposed pair $(x_11, z_11)$ with the predictions from all the vx,x0,vz,z0 in the MCMC chains and assume gaussian errors (here it is absolutely necessary to use the logarithm of the distributions, since we would have to multiply quite a lot of gaussians). This way we can obtain a proper Bayesian estimation for $x_11$ and $z_11$, which, as we will see, is surprisingly accurate."
     ]
    },
    {
     "cell_type": "code",
     "collapsed": false,
     "input": [
      "# Functions for x(t=11)\n",
      "sigma_x_11 = np.sqrt(np.var(x0_mcmc) + 11.*np.var(vx_mcmc))\n",
      "def logprior_x_11(x_11):\n",
      "    # Use the values just determined\n",
      "    return np.log(gaussian(x_11, x0_map + vx_map*11., sigma_x_11))\n",
      "\n",
      "def loglikelihood_x_11(x_11):\n",
      "    return -np.sum((x0_mcmc + vx_mcmc*11. - x_11)**2 / sigma_x_11**2)\n",
      "\n",
      "def logposterior_x_11(x0):\n",
      "    return loglikelihood_x_11(x0) + logprior_x_11(x0)\n",
      "\n",
      "\n",
      "# Same for z\n",
      "sigma_z_11 = np.sqrt(np.var(z0_mcmc) + 11.*np.var(vz_mcmc))\n",
      "def logprior_z_11(z_11):\n",
      "    # Use the values just determined\n",
      "    return np.log(gaussian(z_11, z0_map + vz_map*11., sigma_z_11))\n",
      "\n",
      "def loglikelihood_z_11(z0):\n",
      "    return -np.sum((z0_mcmc + vz_mcmc*11. - z0)**2 / sigma_z_11**2)\n",
      "\n",
      "def logposterior_z_11(z0):\n",
      "    return loglikelihood_z_11(z0) + logprior_z_11(z0)\n",
      "\n",
      "\n",
      "# Wrapper for emcee\n",
      "def lnprob(w):\n",
      "    # where w = [x0,z0]\n",
      "    return logposterior_x_11(w[0]) + logposterior_z_11(w[1])"
     ],
     "language": "python",
     "metadata": {},
     "outputs": [],
     "prompt_number": 22
    },
    {
     "cell_type": "markdown",
     "metadata": {},
     "source": [
      "Run MCMC:"
     ]
    },
    {
     "cell_type": "code",
     "collapsed": false,
     "input": [
      "# Initial values of chain\n",
      "w0 = [np.array([np.random.normal(x0_map + vx_map*11., sigma_x_11), np.random.normal(z0_map + vz_map*11., sigma_z_11)]) for i in range(nwalkers)]\n",
      "\n",
      "# Run MCMC\n",
      "sampler = emcee.EnsembleSampler(nwalkers, ndim, lnprob)\n",
      "sampler.run_mcmc(w0, nsamples)\n",
      "\n",
      "burnin = nsamples/10\n",
      "# Marginalized automatically:\n",
      "x_11 = sampler.flatchain[burnin:,0]\n",
      "z_11 = sampler.flatchain[burnin:,1]"
     ],
     "language": "python",
     "metadata": {},
     "outputs": [],
     "prompt_number": 23
    },
    {
     "cell_type": "markdown",
     "metadata": {},
     "source": [
      "Estimate x_11 = x(t=11)"
     ]
    },
    {
     "cell_type": "code",
     "collapsed": false,
     "input": [
      "# --------------------- determine x(t=11) ------------------------\n",
      "\n",
      "# Sort to find 16th and 84th percentiles\n",
      "x_11.sort()\n",
      "index_lower = int(0.16 * len(x_11))\n",
      "index_upper = int(0.84 * len(x_11))\n",
      "\n",
      "# Get histogram and MAP value\n",
      "# need much higher number of bins\n",
      "nbins = 1000\n",
      "bin_edges = np.linspace(np.min(x_11), np.max(x_11), nbins)\n",
      "freq, bin_edges = np.histogram(x_11, bins=bin_edges)\n",
      "\n",
      "index_map = np.argmax(freq)\n",
      "# Take middle point\n",
      "x_11_map = 0.5*(bin_edges[index_map] + bin_edges[index_map+1])\n",
      "\n",
      "print 'x(t=11) = %g (%g, %g)' % (x_11_map, x_11[index_lower], x_11[index_upper])\n",
      "\n",
      "# Plot\n",
      "binwidth = bin_edges[1] - bin_edges[0]\n",
      "ax = pylab.axes()\n",
      "ax.bar(bin_edges[:-1], freq, width=binwidth)\n",
      "ax.set_xlabel('x(t=11) (km)')"
     ],
     "language": "python",
     "metadata": {},
     "outputs": [
      {
       "output_type": "stream",
       "stream": "stdout",
       "text": [
        "x(t=11) = -2.00062 (-2.00144, -1.99679)\n"
       ]
      },
      {
       "output_type": "pyout",
       "prompt_number": 27,
       "text": [
        "<matplotlib.text.Text at 0x69da410>"
       ]
      },
      {
       "output_type": "display_data",
       "png": "[encoded data removed]"
      }
     ],
     "prompt_number": 27
    },
    {
     "cell_type": "markdown",
     "metadata": {},
     "source": [
      "Estimate z_11 = z(t=11)"
     ]
    },
    {
     "cell_type": "code",
     "collapsed": false,
     "input": [
      "# --------------------- determine z(t=11) ------------------------\n",
      "\n",
      "# Sort to find 16th and 84th percentiles\n",
      "z_11.sort()\n",
      "index_lower = int(0.16 * len(z_11))\n",
      "index_upper = int(0.84 * len(z_11))\n",
      "\n",
      "# Get histogram and MAP value\n",
      "\n",
      "# need much higher number of bins\n",
      "nbins = 1000\n",
      "bin_edges = np.linspace(np.min(z_11), np.max(z_11), nbins)\n",
      "freq, bin_edges = np.histogram(z_11, bins=bin_edges)\n",
      "\n",
      "index_map = np.argmax(freq)\n",
      "# Take middle point\n",
      "z_11_map = 0.5*(bin_edges[index_map] + bin_edges[index_map+1])\n",
      "\n",
      "print 'z(t=11) = %g (%g, %g)' % (z_11_map, z_11[index_lower], z_11[index_upper])\n",
      "\n",
      "# Plot\n",
      "binwidth = bin_edges[1] - bin_edges[0]\n",
      "ax = pylab.axes()\n",
      "ax.bar(bin_edges[:-1], freq, width=binwidth)\n",
      "ax.set_xlabel('z(t=11) (km)')"
     ],
     "language": "python",
     "metadata": {},
     "outputs": [
      {
       "output_type": "stream",
       "stream": "stdout",
       "text": [
        "z(t=11) = 0.309647 (0.309495, 0.315297)\n"
       ]
      },
      {
       "output_type": "pyout",
       "prompt_number": 26,
       "text": [
        "<matplotlib.text.Text at 0x58aa9d0>"
       ]
      },
      {
       "output_type": "display_data",
       "png": "[encoded data removed]"
      }
     ],
     "prompt_number": 26
    },
    {
     "cell_type": "markdown",
     "metadata": {},
     "source": [
      "Our Bayesian predictions for $x_{11}$ and $z_{11}$ are:\n",
      "\n",
      "x(t=11) = -2.00062 (-2.00144, -1.99679)\n",
      "\n",
      "z(t=11) = 0.309647 (0.309495, 0.315297)\n",
      "\n",
      "By using Bayesian techniques we have obtained surprisingly accurate values for the position of the asteroid at t=11. The value of z_0 indicates that the asteroid is very close to crashing at t=11. The uncertainties are much smaller than the diameter of the asteroid, of 2 km, so we can try shooting at it.\n"
     ]
    },
    {
     "cell_type": "heading",
     "level": 3,
     "metadata": {},
     "source": [
      "Fast solution"
     ]
    },
    {
     "cell_type": "markdown",
     "metadata": {},
     "source": [
      "We can obtain a faster solution by simply reducing the number of walkers in emcee, and also reducing the number of MCMC samples slightly. This will still give an estimate for the position of the asteroid which is well within its diameter. On my processor (Intel Core i7), the following code runs in about 6 seconds."
     ]
    },
    {
     "cell_type": "code",
     "collapsed": false,
     "input": [
      "# ----------------------- BAYESIAN FUNCTIONS -----------------------\n",
      "\n",
      "def gaussian(x,mu,sigma):\n",
      "    return 1./(np.sqrt(2.*np.pi)*sigma) * np.exp(-(x-mu)**2/(2.*sigma**2))\n",
      "\n",
      "# The likelihood function is a product of Cauchy distributions\n",
      "def cauchy(x,x0,z0):\n",
      "    return 1./np.pi * z0 / (z0**2 + (x-x0)**2)\n",
      "\n",
      "def loglikelihood(x0,z0,positions):\n",
      "    ll = 0.\n",
      "    for x in positions:\n",
      "        ll += np.log(cauchy(x,x0,z0))\n",
      "    return ll\n",
      "\n",
      "\n",
      "# ----------------------- SOME PARAMETERS ----------------------\n",
      "\n",
      "nsamples = 80  # for MCMC chain\n",
      "nbins = 100  # for estimating MAP\n",
      "nwalkers = 20\n",
      "\n",
      "# ----------------------------- MAIN --------------------------\n",
      "\n",
      "import time\n",
      "\n",
      "# Measure total time\n",
      "start = time.time()\n",
      "\n",
      "# set random seed\n",
      "np.random.seed(32)\n",
      "\n",
      "# read data\n",
      "dt = np.dtype([('time', np.float64), ('position', np.float64)])\n",
      "data = np.loadtxt('signals.txt', dtype=dt)\n",
      "\n",
      "tmin = 1; tmax = 10\n",
      "times = np.arange(tmin, tmax+1, dtype=np.int64)\n",
      "num_times = tmax - tmin + 1\n",
      "\n",
      "x_values = np.zeros(num_times)\n",
      "x_errors = np.zeros(num_times)\n",
      "z_values = np.zeros(num_times)\n",
      "z_errors = np.zeros(num_times)\n",
      "\n",
      "for k in range(num_times):\n",
      "\n",
      "    cur_time = times[k]\n",
      "    # get positions at current time\n",
      "    positions = data[data['time'] == cur_time]['position']\n",
      "\n",
      "    # x prior\n",
      "    # If first time, choose a gaussian centered at x=0 with std = 20 for x\n",
      "    # and a gaussian centered at z=10 with sigma=1 for z\n",
      "    if k == 0:\n",
      "        def logprior_x(x0):\n",
      "            mu = 0.\n",
      "            sig = 20.\n",
      "            return np.log(gaussian(x0,mu,sig))\n",
      "\n",
      "        def logprior_z(z0):\n",
      "            mu = 10.\n",
      "            sig = 1.\n",
      "            return np.log(gaussian(z0,mu,sig))\n",
      "\n",
      "    else:\n",
      "        # Use information from previous time\n",
      "        def logprior_x(x0):\n",
      "            mu = x_values[k-1]\n",
      "            sig = x_errors[k-1]\n",
      "            return np.log(gaussian(x0,mu,sig))\n",
      "\n",
      "        def logprior_z(z0):\n",
      "            mu = z_values[k-1]\n",
      "            sig = z_errors[k-1]\n",
      "            return np.log(gaussian(z0,mu,sig))\n",
      "\n",
      "\n",
      "    # If x0 and z0 are independent, the prior is the product of the two\n",
      "    def logprior(x0,z0):\n",
      "        return logprior_x(x0) + logprior_z(z0)\n",
      "\n",
      "    # Posterior distribution\n",
      "    def logposterior(x0,z0,positions):\n",
      "        return loglikelihood(x0,z0,positions) + logprior(x0,z0)\n",
      "\n",
      "    # Wrapper function for emcee\n",
      "    def lnprob(p, positions):\n",
      "        return logposterior(p[0], p[1], positions)\n",
      "\n",
      "\n",
      "    # Draw samples from posterior distribution using emcee\n",
      "    ndim = 2\n",
      "    # Initialize the walkers at random positions.\n",
      "    # If first time: gaussians around x=0 with sig=10 and around z=10 with sig=0.5\n",
      "    # Otherwise, use same parameters as the prior\n",
      "    if k == 0:\n",
      "        p0 = [np.array([np.random.normal(0., 10.), np.random.normal(10., .5)]) for i in range(nwalkers)]\n",
      "    else:\n",
      "        p0 = [np.array([np.random.normal(x_values[k-1], x_errors[k-1]),\n",
      "                        np.random.normal(z_values[k-1], z_errors[k-1])]) for i in range(nwalkers)]\n",
      "\n",
      "\n",
      "    # Run MCMC\n",
      "    sampler = emcee.EnsembleSampler(nwalkers, ndim, lnprob, args=[positions])\n",
      "    sampler.run_mcmc(p0, nsamples)\n",
      "\n",
      "    burnin = nsamples/10\n",
      "    x = sampler.flatchain[burnin:,0]\n",
      "    z = sampler.flatchain[burnin:,1]\n",
      "\n",
      "\n",
      "    # ------------------------ ESTIMATE X ---------------------------\n",
      "\n",
      "    # Sort to find 16th and 84th percentiles\n",
      "    x.sort()\n",
      "    index_lower = int(0.16 * len(x))\n",
      "    index_upper = int(0.84 * len(x))\n",
      "\n",
      "    # Get histogram and MAP value\n",
      "    bin_edges = np.linspace(np.min(x), np.max(x), nbins)\n",
      "    freq, bin_edges = np.histogram(x, bins=bin_edges)\n",
      "\n",
      "    index_map = np.argmax(freq)\n",
      "    # Take middle point\n",
      "    x_map = 0.5*(bin_edges[index_map] + bin_edges[index_map+1])\n",
      "\n",
      "#    print 'Time = %d' % (cur_time)\n",
      "#    print 'x = %g (%g, %g)' % (x_map, x[index_lower], x[index_upper])\n",
      "\n",
      "\n",
      "    # Save to array\n",
      "    x_values[k] = x_map\n",
      "    x_errors[k] = x[index_upper] - x[index_lower]\n",
      "\n",
      "\n",
      "    # ------------------------ ESTIMATE Z ---------------------------\n",
      "\n",
      "    # Sort to find 16th and 84th percentiles\n",
      "    z.sort()\n",
      "    index_lower = int(0.16 * len(z))\n",
      "    index_upper = int(0.84 * len(z))\n",
      "\n",
      "    # Get histogram and MAP value\n",
      "    bin_edges = np.linspace(np.min(z), np.max(z), nbins)\n",
      "    freq, bin_edges = np.histogram(z, bins=bin_edges)\n",
      "\n",
      "    index_map = np.argmax(freq)\n",
      "    # Take middle point\n",
      "    z_map = 0.5*(bin_edges[index_map] + bin_edges[index_map+1])\n",
      "\n",
      "\n",
      "#    print 'z = %g (%g, %g)' % (z_map, z[index_lower], z[index_upper])\n",
      "\n",
      "    # Save to array\n",
      "    z_values[k] = z_map\n",
      "    z_errors[k] = z[index_upper] - z[index_lower]\n",
      "\n",
      "\n",
      "# Instead of linear regression, use Bayesian approach\n",
      "\n",
      "# -------------------- vx and x0 ----------------------------\n",
      "\n",
      "# Using the parameters from the linear fit carried out in the previous section,\n",
      "# we choose the following parameters:\n",
      "vx_0 = 0.\n",
      "x0_0 = 3.\n",
      "# We take the sigma for all parameters to be 1.0\n",
      "sigma_w = 1.\n",
      "\n",
      "# w stands for both parameters vx_0 and x0_0\n",
      "def logprior_w_x(vx, x0):\n",
      "    return np.log(gaussian(vx, vx_0, sigma_w)) + np.log(gaussian(x0, x0_0, sigma_w))\n",
      "\n",
      "sigma_x = np.std(x_values)\n",
      "def loglikelihood_w_x(vx,x0):\n",
      "    # Linear regression matrix (see previous question)\n",
      "    A = np.vstack([times, np.ones(len(times))]).T\n",
      "    w = np.array([vx, x0])\n",
      "    return -np.linalg.norm((x_values - np.dot(A,w))/sigma_x)\n",
      "\n",
      "def logposterior_w_x(vx,x0):\n",
      "    return loglikelihood_w_x(vx,x0) + logprior_w_x(vx,x0)\n",
      "\n",
      "# Wrapper for emcee\n",
      "def lnprob(w):\n",
      "    return logposterior_w_x(w[0],w[1])\n",
      "\n",
      "# Initial values of chain\n",
      "\n",
      "w0 = [np.array([np.random.normal(vx_0, sigma_w), np.random.normal(x0_0, sigma_w)]) for i in range(nwalkers)]\n",
      "\n",
      "# Run MCMC\n",
      "sampler = emcee.EnsembleSampler(nwalkers, ndim, lnprob)\n",
      "sampler.run_mcmc(w0, nsamples)\n",
      "\n",
      "burnin = nsamples/10\n",
      "vx_mcmc = sampler.flatchain[burnin:,0]\n",
      "x0_mcmc = sampler.flatchain[burnin:,1]\n",
      "\n",
      "# -------------------------determine vx ---------------------------\n",
      "\n",
      "# Sort to find 16th and 84th percentiles\n",
      "vx_mcmc.sort()\n",
      "index_lower = int(0.16 * len(vx_mcmc))\n",
      "index_upper = int(0.84 * len(vx_mcmc))\n",
      "\n",
      "# Get histogram and MAP value\n",
      "bin_edges = np.linspace(np.min(vx_mcmc), np.max(vx_mcmc), nbins)\n",
      "freq, bin_edges = np.histogram(vx_mcmc, bins=bin_edges)\n",
      "\n",
      "index_map = np.argmax(freq)\n",
      "# Take middle point\n",
      "vx_map = 0.5*(bin_edges[index_map] + bin_edges[index_map+1])\n",
      "vx_error = vx_mcmc[index_upper] - vx_mcmc[index_lower]\n",
      "\n",
      "#print 'vx = %g (%g, %g)' % (vx_map, vx_mcmc[index_lower], vx_mcmc[index_upper])\n",
      "\n",
      "\n",
      "## Plot\n",
      "#binwidth = bin_edges[1] - bin_edges[0]\n",
      "#fig = plt.figure()\n",
      "#ax = fig.add_subplot(111)\n",
      "#ax.bar(bin_edges[:-1], freq, width=binwidth)\n",
      "#ax.set_xlabel('vx (km/s)')\n",
      "#fig.show()\n",
      "\n",
      "\n",
      "# -------------------------determine x0 ---------------------------\n",
      "\n",
      "# Sort to find 16th and 84th percentiles\n",
      "x0_mcmc.sort()\n",
      "index_lower = int(0.16 * len(x0_mcmc))\n",
      "index_upper = int(0.84 * len(x0_mcmc))\n",
      "\n",
      "# Get histogram and MAP value\n",
      "bin_edges = np.linspace(np.min(x0_mcmc), np.max(x0_mcmc), nbins)\n",
      "freq, bin_edges = np.histogram(x0_mcmc, bins=bin_edges)\n",
      "\n",
      "index_map = np.argmax(freq)\n",
      "# Take middle point\n",
      "x0_map = 0.5*(bin_edges[index_map] + bin_edges[index_map+1])\n",
      "x0_error = x0_mcmc[index_upper] - x0_mcmc[index_lower]\n",
      "\n",
      "#print 'x0 = %g (%g, %g)' % (x0_map, x0_mcmc[index_lower], x0_mcmc[index_upper])\n",
      "\n",
      "## Plot\n",
      "#binwidth = bin_edges[1] - bin_edges[0]\n",
      "#fig = plt.figure()\n",
      "#ax = fig.add_subplot(111)\n",
      "#ax.bar(bin_edges[:-1], freq, width=binwidth)\n",
      "#ax.set_xlabel('x0 (km)')\n",
      "#fig.show()\n",
      "\n",
      "\n",
      "# -------------------- vz and z0 ----------------------------\n",
      "\n",
      "# Using the parameters from the linear fit carried out in the previous section,\n",
      "# we choose the following parameters:\n",
      "vz_0 = -1.\n",
      "z0_0 = 10.\n",
      "\n",
      "# w stands for both parameters vz and z0\n",
      "def logprior_w_z(vz, z0):\n",
      "    return np.log(gaussian(vz, vz_0, sigma_w)) + np.log(gaussian(z0, z0_0, sigma_w))\n",
      "\n",
      "sigma_z = np.std(z_values)\n",
      "def loglikelihood_w_z(vz,z0):\n",
      "    # Linear regression matrix (see previous question)\n",
      "    A = np.vstack([times, np.ones(len(times))]).T\n",
      "    w = np.array([vz, z0])\n",
      "    return -np.linalg.norm((z_values - np.dot(A,w))/sigma_z)\n",
      "\n",
      "def logposterior_w_z(vz,z0):\n",
      "    return loglikelihood_w_z(vz,z0) + logprior_w_z(vz,z0)\n",
      "\n",
      "# Wrapper for emcee\n",
      "def lnprob(w):\n",
      "    return logposterior_w_z(w[0],w[1])\n",
      "\n",
      "# Initial values of chain\n",
      "\n",
      "w0 = [np.array([np.random.normal(vz_0, sigma_w), np.random.normal(z0_0, sigma_w)]) for i in range(nwalkers)]\n",
      "\n",
      "# Run MCMC\n",
      "sampler = emcee.EnsembleSampler(nwalkers, ndim, lnprob)\n",
      "sampler.run_mcmc(w0, nsamples)\n",
      "\n",
      "burnin = nsamples/10\n",
      "vz_mcmc = sampler.flatchain[burnin:,0]\n",
      "z0_mcmc = sampler.flatchain[burnin:,1]\n",
      "\n",
      "\n",
      "# -------------------------determine vz ---------------------------\n",
      "\n",
      "# Sort to find 16th and 84th percentiles\n",
      "vz_mcmc.sort()\n",
      "index_lower = int(0.16 * len(vz_mcmc))\n",
      "index_upper = int(0.84 * len(vz_mcmc))\n",
      "\n",
      "# Get histogram and MAP value\n",
      "bin_edges = np.linspace(np.min(vz_mcmc), np.max(vz_mcmc), nbins)\n",
      "freq, bin_edges = np.histogram(vz_mcmc, bins=bin_edges)\n",
      "\n",
      "index_map = np.argmax(freq)\n",
      "# Take middle point\n",
      "vz_map = 0.5*(bin_edges[index_map] + bin_edges[index_map+1])\n",
      "vz_error = vz_mcmc[index_upper] - vz_mcmc[index_lower]\n",
      "\n",
      "#print 'vz = %g (%g, %g)' % (vz_map, vz_mcmc[index_lower], vz_mcmc[index_upper])\n",
      "\n",
      "## Plot\n",
      "#binwidth = bin_edges[1] - bin_edges[0]\n",
      "#fig = plt.figure()\n",
      "#ax = fig.add_subplot(111)\n",
      "#ax.bar(bin_edges[:-1], freq, width=binwidth)\n",
      "#ax.set_xlabel('vz (km/s)')\n",
      "#fig.show()\n",
      "\n",
      "# -------------------------determine z0 ---------------------------\n",
      "\n",
      "# Sort to find 16th and 84th percentiles\n",
      "z0_mcmc.sort()\n",
      "index_lower = int(0.16 * len(z0_mcmc))\n",
      "index_upper = int(0.84 * len(z0_mcmc))\n",
      "\n",
      "# Get histogram and MAP value\n",
      "bin_edges = np.linspace(np.min(z0_mcmc), np.max(z0_mcmc), nbins)\n",
      "freq, bin_edges = np.histogram(z0_mcmc, bins=bin_edges)\n",
      "\n",
      "index_map = np.argmax(freq)\n",
      "# Take middle point\n",
      "z0_map = 0.5*(bin_edges[index_map] + bin_edges[index_map+1])\n",
      "z0_error = z0_mcmc[index_upper] - z0_mcmc[index_lower]\n",
      "\n",
      "#print 'z0 = %g (%g, %g)' % (z0_map, z0_mcmc[index_lower], z0_mcmc[index_upper])\n",
      "\n",
      "## Plot\n",
      "#binwidth = bin_edges[1] - bin_edges[0]\n",
      "#fig = plt.figure()\n",
      "#ax = fig.add_subplot(111)\n",
      "#ax.bar(bin_edges[:-1], freq, width=binwidth)\n",
      "#ax.set_xlabel('z0 (km)')\n",
      "#fig.show()\n",
      "\n",
      "\n",
      "# -------------------- QUESTION 5 --------------------\n",
      "\n",
      "# Functions for x(t=11)\n",
      "sigma_x_11 = np.sqrt(np.var(x0_mcmc) + 11.*np.var(vx_mcmc))\n",
      "def logprior_x_11(x_11):\n",
      "    # Use the values just determined\n",
      "    return np.log(gaussian(x_11, x0_map + vx_map*11., sigma_x_11))\n",
      "\n",
      "def loglikelihood_x_11(x_11):\n",
      "    return -np.sum((x0_mcmc + vx_mcmc*11. - x_11)**2 / sigma_x_11**2)\n",
      "\n",
      "def logposterior_x_11(x0):\n",
      "    return loglikelihood_x_11(x0) + logprior_x_11(x0)\n",
      "\n",
      "\n",
      "# Same for z\n",
      "sigma_z_11 = np.sqrt(np.var(z0_mcmc) + 11.*np.var(vz_mcmc))\n",
      "def logprior_z_11(z_11):\n",
      "    # Use the values just determined\n",
      "    return np.log(gaussian(z_11, z0_map + vz_map*11., sigma_z_11))\n",
      "\n",
      "def loglikelihood_z_11(z0):\n",
      "    return -np.sum((z0_mcmc + vz_mcmc*11. - z0)**2 / sigma_z_11**2)\n",
      "\n",
      "def logposterior_z_11(z0):\n",
      "    return loglikelihood_z_11(z0) + logprior_z_11(z0)\n",
      "\n",
      "\n",
      "\n",
      "# Wrapper for emcee\n",
      "def lnprob(w):\n",
      "    # where w = [x0,z0]\n",
      "    return logposterior_x_11(w[0]) + logposterior_z_11(w[1])\n",
      "\n",
      "\n",
      "# Initial values of chain\n",
      "w0 = [np.array([np.random.normal(x0_map + vx_map*11., sigma_x_11), np.random.normal(z0_map + vz_map*11., sigma_z_11)]) for i in range(nwalkers)]\n",
      "\n",
      "# Run MCMC\n",
      "sampler = emcee.EnsembleSampler(nwalkers, ndim, lnprob)\n",
      "sampler.run_mcmc(w0, nsamples)\n",
      "\n",
      "burnin = nsamples/10\n",
      "# Marginalized automatically:\n",
      "x_11 = sampler.flatchain[burnin:,0]\n",
      "z_11 = sampler.flatchain[burnin:,1]\n",
      "\n",
      "\n",
      "## Using the MCMC samples, obtain an estimate for the position of the\n",
      "## asteroid at t=11, x_11 and z_11\n",
      "#x_11 = x0_mcmc + vx_mcmc * 11.0\n",
      "#z_11 = z0_mcmc + vz_mcmc * 11.0\n",
      "\n",
      "# --------------------- determine x(t=11) ------------------------\n",
      "\n",
      "# Sort to find 16th and 84th percentiles\n",
      "x_11.sort()\n",
      "index_lower = int(0.16 * len(x_11))\n",
      "index_upper = int(0.84 * len(x_11))\n",
      "\n",
      "# Get histogram and MAP value\n",
      "bin_edges = np.linspace(np.min(x_11), np.max(x_11), nbins)\n",
      "freq, bin_edges = np.histogram(x_11, bins=bin_edges)\n",
      "\n",
      "index_map = np.argmax(freq)\n",
      "# Take middle point\n",
      "x_11_map = 0.5*(bin_edges[index_map] + bin_edges[index_map+1])\n",
      "\n",
      "print 'x(t=11) = %g (%g, %g)' % (x_11_map, x_11[index_lower], x_11[index_upper])\n",
      "\n",
      "\n",
      "# --------------------- determine z(t=11) ------------------------\n",
      "\n",
      "# Sort to find 16th and 84th percentiles\n",
      "z_11.sort()\n",
      "index_lower = int(0.16 * len(z_11))\n",
      "index_upper = int(0.84 * len(z_11))\n",
      "\n",
      "# Get histogram and MAP value\n",
      "bin_edges = np.linspace(np.min(z_11), np.max(z_11), nbins)\n",
      "freq, bin_edges = np.histogram(z_11, bins=bin_edges)\n",
      "\n",
      "index_map = np.argmax(freq)\n",
      "# Take middle point\n",
      "z_11_map = 0.5*(bin_edges[index_map] + bin_edges[index_map+1])\n",
      "\n",
      "print 'z(t=11) = %g (%g, %g)' % (z_11_map, z_11[index_lower], z_11[index_upper])\n",
      "\n",
      "end = time.time()\n",
      "\n",
      "print 'Total time: %g seconds.' % (end-start)\n"
     ],
     "language": "python",
     "metadata": {},
     "outputs": [
      {
       "output_type": "stream",
       "stream": "stdout",
       "text": [
        "x(t=11) = -1.57023 (-1.82767, -1.54277)\n",
        "z(t=11) = 0.609579 (0.569776, 0.771861)\n",
        "Total time: 6.51351 seconds.\n"
       ]
      }
     ],
     "prompt_number": 21
    }
   ],
   "metadata": {}
  }
 ]
}